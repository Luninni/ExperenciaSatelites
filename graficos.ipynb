{
  "nbformat": 4,
  "nbformat_minor": 0,
  "metadata": {
    "colab": {
      "name": "graficos.ipynb",
      "version": "0.3.2",
      "provenance": [],
      "toc_visible": true,
      "include_colab_link": true
    },
    "language_info": {
      "codemirror_mode": {
        "name": "ipython",
        "version": 3
      },
      "file_extension": ".py",
      "mimetype": "text/x-python",
      "name": "python",
      "nbconvert_exporter": "python",
      "pygments_lexer": "ipython3",
      "version": "3.7.3"
    },
    "kernelspec": {
      "display_name": "Python 3",
      "language": "python",
      "name": "python3"
    }
  },
  "cells": [
    {
      "cell_type": "markdown",
      "metadata": {
        "id": "view-in-github",
        "colab_type": "text"
      },
      "source": [
        "<a href=\"https://colab.research.google.com/github/Luninni/ExperenciaSatelites/blob/master/graficos.ipynb\" target=\"_parent\"><img src=\"https://colab.research.google.com/assets/colab-badge.svg\" alt=\"Open In Colab\"/></a>"
      ]
    },
    {
      "cell_type": "markdown",
      "metadata": {
        "id": "9QByzesOq1gJ",
        "colab_type": "text"
      },
      "source": [
        "## Gráficos10.csv*"
      ]
    },
    {
      "cell_type": "code",
      "metadata": {
        "id": "BzseEGxlq1gL",
        "colab_type": "code",
        "colab": {}
      },
      "source": [
        "import matplotlib.pyplot as plt \n",
        "%matplotlib inline\n",
        "nombreArchivo=\"2019-06-13_16_48_21_mtq1_duty_10.csv\"\n",
        "archivo=open(nombreArchivo,\"r\")\n",
        "mx=[]\n",
        "my=[]\n",
        "mz=[]\n",
        "\n",
        "gx=[]\n",
        "gy=[]\n",
        "gz=[]\n",
        "\n",
        "time=[]\n",
        "\n",
        "tail1=[]\n",
        "tail2=[]\n",
        "tail3=[]\n",
        "\n",
        "checksum=[]\n",
        "stringDatos=archivo.readline()\n",
        "while(stringDatos!=\"\"):\n",
        "    dataStr=stringDatos.split(\",\")\n",
        "    #obtener el m y agregarlo al arreglo mx\n",
        "    mx.append(float(dataStr[0]))\n",
        "    my.append(float(dataStr[1]))\n",
        "    mz.append(float(dataStr[2]))\n",
        "    \n",
        "    #obtener el g y agregarlo al arreglo my\n",
        "    gx.append(float(dataStr[3]))\n",
        "    gy.append(float(dataStr[4]))\n",
        "    gz.append(float(dataStr[5]))\n",
        "\n",
        "    #obtener el time y agregarlo al arreglo time\n",
        "    time.append(float(dataStr[6]))\n",
        "    \n",
        "    #obtener el tail y agregarlo a su arreglo\n",
        "    tail1.append(float(dataStr[7]))\n",
        "    tail2.append(float(dataStr[8]))\n",
        "    tail3.append(float(dataStr[9]))\n",
        "    stringDatos=archivo.readline()\n",
        "archivo.close()\n",
        "\n"
      ],
      "execution_count": 0,
      "outputs": []
    },
    {
      "cell_type": "code",
      "metadata": {
        "id": "-39dF7FzHsi0",
        "colab_type": "code",
        "colab": {}
      },
      "source": [
        "for i in range(len(time)):\n",
        "    time[i]/=1000"
      ],
      "execution_count": 0,
      "outputs": []
    },
    {
      "cell_type": "code",
      "metadata": {
        "id": "b9ungJH2sPaF",
        "colab_type": "code",
        "outputId": "2f979490-e96b-4a94-fc06-cfbc42c516f6",
        "colab": {
          "base_uri": "https://localhost:8080/",
          "height": 312
        }
      },
      "source": [
        "B=[]\n",
        "\n",
        "for i in range(len(mx)):\n",
        "      B.append((mx[i]**2+my[i]**2+mz[i]**2)**(1.0/2))\n",
        "plt.plot(time,B)\n",
        "\n",
        "plt.xlabel(\"Tiempo [s]\")\n",
        "plt.ylabel(\"Módulo del campo magnético\")\n",
        "plt.title(\"Módulo del campo magnético en función del tiempo\")\n"
      ],
      "execution_count": 49,
      "outputs": [
        {
          "output_type": "execute_result",
          "data": {
            "text/plain": [
              "Text(0.5, 1.0, 'Módulo del campo magnético en función del tiempo')"
            ]
          },
          "metadata": {
            "tags": []
          },
          "execution_count": 49
        },
        {
          "output_type": "display_data",
          "data": {
            "image/png": "[encoded data removed]",
            "text/plain": [
              "<Figure size 432x288 with 1 Axes>"
            ]
          },
          "metadata": {
            "tags": []
          }
        }
      ]
    },
    {
      "cell_type": "code",
      "metadata": {
        "id": "tWUz42A9q1gW",
        "colab_type": "code",
        "outputId": "0c7742aa-9ab9-45eb-b931-df29aef7b5da",
        "colab": {
          "base_uri": "https://localhost:8080/",
          "height": 295
        }
      },
      "source": [
        "plt.plot(time,my)\n",
        "plt.xlabel(\"Tiempo [s]\")\n",
        "plt.ylabel(\"Campo magnético \")\n",
        "plt.title(\"Campo magnético en el eje y en función del tiempo\")\n",
        "plt.show()"
      ],
      "execution_count": 50,
      "outputs": [
        {
          "output_type": "display_data",
          "data": {
            "image/png": "[encoded data removed]",
            "text/plain": [
              "<Figure size 432x288 with 1 Axes>"
            ]
          },
          "metadata": {
            "tags": []
          }
        }
      ]
    },
    {
      "cell_type": "code",
      "metadata": {
        "id": "GGZ-1biVq1gS",
        "colab_type": "code",
        "outputId": "8cca1049-98a4-471d-b772-54838cc71d66",
        "colab": {
          "base_uri": "https://localhost:8080/",
          "height": 329
        }
      },
      "source": [
        "plt.plot(time,mx)\n",
        "plt.plot(time,my)\n",
        "plt.plot(time,mz)\n",
        "plt.legend(('EjeX', 'Eje Y ','Eje Z'))\n",
        "plt.legend (prop={'size':10}) \n",
        "plt.legend(loc = 'upper left')\n",
        "plt.xlabel(\"Tiempo [s]\")\n",
        "plt.ylabel(\"Campo magnético \")\n",
        "plt.title(\"Campo magnético en el eje x en función del tiempo\")\n",
        "plt.show()"
      ],
      "execution_count": 74,
      "outputs": [
        {
          "output_type": "stream",
          "text": [
            "No handles with labels found to put in legend.\n",
            "No handles with labels found to put in legend.\n"
          ],
          "name": "stderr"
        },
        {
          "output_type": "display_data",
          "data": {
            "image/png": "[encoded data removed]",
            "text/plain": [
              "<Figure size 432x288 with 1 Axes>"
            ]
          },
          "metadata": {
            "tags": []
          }
        }
      ]
    },
    {
      "cell_type": "code",
      "metadata": {
        "id": "qLJ2BDAlq1gd",
        "colab_type": "code",
        "outputId": "2fc16c65-2e8c-4859-bb9d-4b455407dae5",
        "colab": {
          "base_uri": "https://localhost:8080/",
          "height": 295
        }
      },
      "source": [
        "plt.plot(time,mz)\n",
        "plt.xlabel(\"Tiempo [s]\")\n",
        "plt.ylabel(\"Campo magnético \")\n",
        "plt.title(\"Campo magnético en el eje z en función del tiempo\")\n",
        "plt.show()"
      ],
      "execution_count": 35,
      "outputs": [
        {
          "output_type": "display_data",
          "data": {
            "image/png": "[encoded data removed]",
            "text/plain": [
              "<Figure size 432x288 with 1 Axes>"
            ]
          },
          "metadata": {
            "tags": []
          }
        }
      ]
    },
    {
      "cell_type": "code",
      "metadata": {
        "id": "rONLneu8q1gi",
        "colab_type": "code",
        "outputId": "e67391ce-2310-4a78-bdec-44ac48e09e76",
        "colab": {
          "base_uri": "https://localhost:8080/",
          "height": 295
        }
      },
      "source": [
        "plt.plot(time,gx)\n",
        "plt.xlabel(\"Tiempo\")\n",
        "plt.ylabel(\"gx\")\n",
        "plt.title(\"Eje X de G en función del tiempo\")\n",
        "plt.show()"
      ],
      "execution_count": 36,
      "outputs": [
        {
          "output_type": "display_data",
          "data": {
            "image/png": "[encoded data removed]",
            "text/plain": [
              "<Figure size 432x288 with 1 Axes>"
            ]
          },
          "metadata": {
            "tags": []
          }
        }
      ]
    },
    {
      "cell_type": "code",
      "metadata": {
        "id": "01Zt3P6-q1gn",
        "colab_type": "code",
        "outputId": "3ef71b14-029b-40b5-d460-c03838035b32",
        "colab": {
          "base_uri": "https://localhost:8080/",
          "height": 295
        }
      },
      "source": [
        "plt.plot(time,gy)\n",
        "plt.xlabel(\"Tiempo\")\n",
        "plt.ylabel(\"gy\")\n",
        "plt.title(\"Eje Y de G en función del tiempo\")\n",
        "plt.show()"
      ],
      "execution_count": 37,
      "outputs": [
        {
          "output_type": "display_data",
          "data": {
            "image/png": "[encoded data removed]",
            "text/plain": [
              "<Figure size 432x288 with 1 Axes>"
            ]
          },
          "metadata": {
            "tags": []
          }
        }
      ]
    },
    {
      "cell_type": "code",
      "metadata": {
        "scrolled": false,
        "id": "-yETqAYfq1gt",
        "colab_type": "code",
        "outputId": "c173ac35-b5d8-4406-b209-edb5fe99d78c",
        "colab": {
          "base_uri": "https://localhost:8080/",
          "height": 295
        }
      },
      "source": [
        "plt.plot(time,gz)\n",
        "plt.xlabel(\"Tiempo\")\n",
        "plt.ylabel(\"gz\")\n",
        "plt.title(\"Eje Z de G en función del tiempo\")\n",
        "plt.show()"
      ],
      "execution_count": 38,
      "outputs": [
        {
          "output_type": "display_data",
          "data": {
            "image/png": "[encoded data removed]",
            "text/plain": [
              "<Figure size 432x288 with 1 Axes>"
            ]
          },
          "metadata": {
            "tags": []
          }
        }
      ]
    },
    {
      "cell_type": "code",
      "metadata": {
        "id": "iGlNKHNJq1g0",
        "colab_type": "code",
        "outputId": "878b6c21-35fa-41f7-aaa0-00f355e8f03f",
        "colab": {
          "base_uri": "https://localhost:8080/",
          "height": 295
        }
      },
      "source": [
        "plt.plot(time,tail1)\n",
        "plt.xlabel(\"Tiempo\")\n",
        "plt.ylabel(\"Tail1\")\n",
        "plt.title(\"Tail1 en función del tiempo\")\n",
        "plt.show()"
      ],
      "execution_count": 39,
      "outputs": [
        {
          "output_type": "display_data",
          "data": {
            "image/png": "[encoded data removed]",
            "text/plain": [
              "<Figure size 432x288 with 1 Axes>"
            ]
          },
          "metadata": {
            "tags": []
          }
        }
      ]
    },
    {
      "cell_type": "code",
      "metadata": {
        "id": "qpvwjA6lq1g9",
        "colab_type": "code",
        "outputId": "ddf808bd-2bcf-44b0-c41f-af4d51432129",
        "colab": {
          "base_uri": "https://localhost:8080/",
          "height": 295
        }
      },
      "source": [
        "plt.plot(time,tail2)\n",
        "plt.xlabel(\"Tiempo\")\n",
        "plt.ylabel(\"Tail2\")\n",
        "plt.title(\"Tail2 en función del tiempo\")\n",
        "plt.show()"
      ],
      "execution_count": 40,
      "outputs": [
        {
          "output_type": "display_data",
          "data": {
            "image/png": "[encoded data removed]",
            "text/plain": [
              "<Figure size 432x288 with 1 Axes>"
            ]
          },
          "metadata": {
            "tags": []
          }
        }
      ]
    },
    {
      "cell_type": "code",
      "metadata": {
        "id": "3t_mSbrNq1hB",
        "colab_type": "code",
        "outputId": "01e884a4-5ee1-4f63-9653-58a456a8e21c",
        "colab": {
          "base_uri": "https://localhost:8080/",
          "height": 295
        }
      },
      "source": [
        "plt.plot(time,tail3)\n",
        "plt.xlabel(\"Tiempo\")\n",
        "plt.ylabel(\"Tail3\")\n",
        "plt.title(\"Tail3 en función del tiempo\")\n",
        "plt.show()"
      ],
      "execution_count": 41,
      "outputs": [
        {
          "output_type": "display_data",
          "data": {
            "image/png": "[encoded data removed]",
            "text/plain": [
              "<Figure size 432x288 with 1 Axes>"
            ]
          },
          "metadata": {
            "tags": []
          }
        }
      ]
    },
    {
      "cell_type": "markdown",
      "metadata": {
        "id": "dh3A2qMdq1hF",
        "colab_type": "text"
      },
      "source": [
        "## Gráficos *20.csv"
      ]
    },
    {
      "cell_type": "code",
      "metadata": {
        "scrolled": true,
        "id": "HkGAb0o0q1hG",
        "colab_type": "code",
        "colab": {
          "base_uri": "https://localhost:8080/",
          "height": 229
        },
        "outputId": "36c04c8e-4bed-4684-c9db-10e9c0eb869a"
      },
      "source": [
        "import matplotlib.pyplot as plt \n",
        "%matplotlib inline\n",
        "nombreArchivo=\"2019-06-13_16_54_44_mtq1_duty20.csv\"\n",
        "archivo=open(nombreArchivo,\"r\")\n",
        "mx2=[]\n",
        "my2=[]\n",
        "mz2=[]\n",
        "\n",
        "gx2=[]\n",
        "gy2=[]\n",
        "gz2=[]\n",
        "\n",
        "time2=[]\n",
        "\n",
        "tail12=[]\n",
        "tail22=[]\n",
        "tail32=[]\n",
        "\n",
        "checksum2=[]\n",
        "stringDatos=archivo.readline()\n",
        "while(stringDatos!=\"\"):\n",
        "    dataStr=stringDatos.split(\",\")\n",
        "    #obtener el m y agregarlo al arreglo mx\n",
        "    mx2.append(float(dataStr[0]))\n",
        "    my2.append(float(dataStr[1]))\n",
        "    mz2.append(float(dataStr[2]))\n",
        "    \n",
        "    #obtener el g y agregarlo al arreglo my\n",
        "    gx2.append(float(dataStr[3]))\n",
        "    gy2.append(float(dataStr[4]))\n",
        "    gz2.append(float(dataStr[5]))\n",
        "\n",
        "    #obtener el time y agregarlo al arreglo time\n",
        "    time2.append(float(dataStr[6]))\n",
        "    \n",
        "    #obtener el tail y agregarlo a su arreglo\n",
        "    tail12.append(float(dataStr[7]))\n",
        "    tail22.append(float(dataStr[8]))\n",
        "    tail32.append(float(dataStr[9]))\n",
        "    stringDatos=archivo.readline()\n",
        "archivo.close()"
      ],
      "execution_count": 42,
      "outputs": [
        {
          "output_type": "error",
          "ename": "ValueError",
          "evalue": "ignored",
          "traceback": [
            "\u001b[0;31m---------------------------------------------------------------------------\u001b[0m",
            "\u001b[0;31mValueError\u001b[0m                                Traceback (most recent call last)",
            "\u001b[0;32m<ipython-input-42-fb439711b6b5>\u001b[0m in \u001b[0;36m<module>\u001b[0;34m()\u001b[0m\n\u001b[1;32m     22\u001b[0m     \u001b[0mdataStr\u001b[0m\u001b[0;34m=\u001b[0m\u001b[0mstringDatos\u001b[0m\u001b[0;34m.\u001b[0m\u001b[0msplit\u001b[0m\u001b[0;34m(\u001b[0m\u001b[0;34m\",\"\u001b[0m\u001b[0;34m)\u001b[0m\u001b[0;34m\u001b[0m\u001b[0;34m\u001b[0m\u001b[0m\n\u001b[1;32m     23\u001b[0m     \u001b[0;31m#obtener el m y agregarlo al arreglo mx\u001b[0m\u001b[0;34m\u001b[0m\u001b[0;34m\u001b[0m\u001b[0;34m\u001b[0m\u001b[0m\n\u001b[0;32m---> 24\u001b[0;31m     \u001b[0mmx2\u001b[0m\u001b[0;34m.\u001b[0m\u001b[0mappend\u001b[0m\u001b[0;34m(\u001b[0m\u001b[0mfloat\u001b[0m\u001b[0;34m(\u001b[0m\u001b[0mdataStr\u001b[0m\u001b[0;34m[\u001b[0m\u001b[0;36m0\u001b[0m\u001b[0;34m]\u001b[0m\u001b[0;34m)\u001b[0m\u001b[0;34m)\u001b[0m\u001b[0;34m\u001b[0m\u001b[0;34m\u001b[0m\u001b[0m\n\u001b[0m\u001b[1;32m     25\u001b[0m     \u001b[0mmy2\u001b[0m\u001b[0;34m.\u001b[0m\u001b[0mappend\u001b[0m\u001b[0;34m(\u001b[0m\u001b[0mfloat\u001b[0m\u001b[0;34m(\u001b[0m\u001b[0mdataStr\u001b[0m\u001b[0;34m[\u001b[0m\u001b[0;36m1\u001b[0m\u001b[0;34m]\u001b[0m\u001b[0;34m)\u001b[0m\u001b[0;34m)\u001b[0m\u001b[0;34m\u001b[0m\u001b[0;34m\u001b[0m\u001b[0m\n\u001b[1;32m     26\u001b[0m     \u001b[0mmz2\u001b[0m\u001b[0;34m.\u001b[0m\u001b[0mappend\u001b[0m\u001b[0;34m(\u001b[0m\u001b[0mfloat\u001b[0m\u001b[0;34m(\u001b[0m\u001b[0mdataStr\u001b[0m\u001b[0;34m[\u001b[0m\u001b[0;36m2\u001b[0m\u001b[0;34m]\u001b[0m\u001b[0;34m)\u001b[0m\u001b[0;34m)\u001b[0m\u001b[0;34m\u001b[0m\u001b[0;34m\u001b[0m\u001b[0m\n",
            "\u001b[0;31mValueError\u001b[0m: could not convert string to float: 'mx'"
          ]
        }
      ]
    },
    {
      "cell_type": "code",
      "metadata": {
        "id": "YEeRHyw_L4iq",
        "colab_type": "code",
        "colab": {}
      },
      "source": [
        "for i in range(len(time2)):\n",
        "    time2[i]/=1000"
      ],
      "execution_count": 0,
      "outputs": []
    },
    {
      "cell_type": "code",
      "metadata": {
        "id": "xsD9G6DPCFH6",
        "colab_type": "code",
        "colab": {}
      },
      "source": [
        "B2=[]\n",
        "\n",
        "for i in range(len(mx2)):\n",
        "      B2.append((mx2[i]**2+my2[i]**2+mz2[i]**2)**(1.0/2))\n",
        "plt.plot(time2,B2)\n",
        "\n",
        "plt.xlabel(\"Tiempo [s]\")\n",
        "plt.ylabel(\"Módulo del campo magnético\")\n",
        "plt.title(\"Módulo del campo magnético en función del tiempo\")"
      ],
      "execution_count": 0,
      "outputs": []
    },
    {
      "cell_type": "code",
      "metadata": {
        "id": "MZlNKhr8q1hK",
        "colab_type": "code",
        "colab": {}
      },
      "source": [
        "plt.plot(time2,mx2)\n",
        "plt.xlabel(\"Tiempo [s]\")\n",
        "plt.ylabel(\"Campo magnético \")\n",
        "plt.title(\"Campo magnético en el eje x en función del tiempo\")\n",
        "plt.show()"
      ],
      "execution_count": 0,
      "outputs": []
    },
    {
      "cell_type": "code",
      "metadata": {
        "id": "N4En_oM7q1hN",
        "colab_type": "code",
        "colab": {}
      },
      "source": [
        "plt.plot(time2,my2)\n",
        "plt.xlabel(\"Tiempo [s]\")\n",
        "plt.ylabel(\"Campo magnético \")\n",
        "plt.title(\"Campo magnético en el eje y en función del tiempo\")\n",
        "plt.show()"
      ],
      "execution_count": 0,
      "outputs": []
    },
    {
      "cell_type": "code",
      "metadata": {
        "id": "Ovj9kzh-q1hQ",
        "colab_type": "code",
        "colab": {}
      },
      "source": [
        "plt.plot(time2,mz2)\n",
        "plt.xlabel(\"Tiempo [s]\")\n",
        "plt.ylabel(\"Campo magnético \")\n",
        "plt.title(\"Campo magnético en el eje z en función del tiempo\")\n",
        "plt.show()"
      ],
      "execution_count": 0,
      "outputs": []
    },
    {
      "cell_type": "code",
      "metadata": {
        "id": "fuAPNspCq1hV",
        "colab_type": "code",
        "colab": {}
      },
      "source": [
        "plt.plot(time2,gx2)\n",
        "plt.xlabel(\"Tiempo\")\n",
        "plt.ylabel(\"gx\")\n",
        "plt.title(\"Eje x de G en función del tiempo\")\n",
        "plt.show()"
      ],
      "execution_count": 0,
      "outputs": []
    },
    {
      "cell_type": "code",
      "metadata": {
        "id": "A5AShCivq1hY",
        "colab_type": "code",
        "colab": {}
      },
      "source": [
        "plt.plot(time2,gy2)\n",
        "plt.xlabel(\"Tiempo\")\n",
        "plt.ylabel(\"gy\")\n",
        "plt.title(\"Eje Y de G en función del tiempo\")\n",
        "plt.show()"
      ],
      "execution_count": 0,
      "outputs": []
    },
    {
      "cell_type": "code",
      "metadata": {
        "id": "vMw_Mwxzq1hb",
        "colab_type": "code",
        "colab": {}
      },
      "source": [
        "plt.plot(time2,gz2)\n",
        "plt.xlabel(\"Tiempo\")\n",
        "plt.ylabel(\"gz\")\n",
        "plt.title(\"Eje Z de G en función del tiempo\")\n",
        "plt.show()"
      ],
      "execution_count": 0,
      "outputs": []
    },
    {
      "cell_type": "markdown",
      "metadata": {
        "id": "QeQXHxaNq1hg",
        "colab_type": "text"
      },
      "source": [
        "## Tercer lote de graficos, correspondiente al archivo terminado en 30.csv"
      ]
    },
    {
      "cell_type": "code",
      "metadata": {
        "id": "wCStgs0Yq1hj",
        "colab_type": "code",
        "colab": {
          "base_uri": "https://localhost:8080/",
          "height": 229
        },
        "outputId": "653139df-6e3d-45f9-e693-59e2ce922a3c"
      },
      "source": [
        "import matplotlib.pyplot as plt \n",
        "%matplotlib inline\n",
        "nombreArchivo=\"2019-06-13_17_02_10_duty30.csv\"\n",
        "archivo=open(nombreArchivo,\"r\")\n",
        "mx3=[]\n",
        "my3=[]\n",
        "mz3=[]\n",
        "\n",
        "gx3=[]\n",
        "gy3=[]\n",
        "gz3=[]\n",
        "\n",
        "time3=[]\n",
        "\n",
        "tail13=[]\n",
        "tail23=[]\n",
        "tail33=[]\n",
        "\n",
        "checksum3=[]\n",
        "stringDatos=archivo.readline()\n",
        "while(stringDatos!=\"\"):\n",
        "    dataStr=stringDatos.split(\",\")\n",
        "    #obtener el m y agregarlo al arreglo mx\n",
        "    mx3.append(float(dataStr[0]))\n",
        "    my3.append(float(dataStr[1]))\n",
        "    mz3.append(float(dataStr[2]))\n",
        "    \n",
        "    #obtener el g y agregarlo al arreglo my\n",
        "    gx3.append(float(dataStr[3]))\n",
        "    gy3.append(float(dataStr[4]))\n",
        "    gz3.append(float(dataStr[5]))\n",
        "\n",
        "    #obtener el time y agregarlo al arreglo time\n",
        "    time3.append(float(dataStr[6]))\n",
        "    \n",
        "    #obtener el tail y agregarlo a su arreglo\n",
        "    tail13.append(float(dataStr[7]))\n",
        "    tail23.append(float(dataStr[8]))\n",
        "    tail33.append(float(dataStr[9]))\n",
        "    stringDatos=archivo.readline()\n",
        "archivo.close()"
      ],
      "execution_count": 43,
      "outputs": [
        {
          "output_type": "error",
          "ename": "ValueError",
          "evalue": "ignored",
          "traceback": [
            "\u001b[0;31m---------------------------------------------------------------------------\u001b[0m",
            "\u001b[0;31mValueError\u001b[0m                                Traceback (most recent call last)",
            "\u001b[0;32m<ipython-input-43-fa5f930581a9>\u001b[0m in \u001b[0;36m<module>\u001b[0;34m()\u001b[0m\n\u001b[1;32m     22\u001b[0m     \u001b[0mdataStr\u001b[0m\u001b[0;34m=\u001b[0m\u001b[0mstringDatos\u001b[0m\u001b[0;34m.\u001b[0m\u001b[0msplit\u001b[0m\u001b[0;34m(\u001b[0m\u001b[0;34m\",\"\u001b[0m\u001b[0;34m)\u001b[0m\u001b[0;34m\u001b[0m\u001b[0;34m\u001b[0m\u001b[0m\n\u001b[1;32m     23\u001b[0m     \u001b[0;31m#obtener el m y agregarlo al arreglo mx\u001b[0m\u001b[0;34m\u001b[0m\u001b[0;34m\u001b[0m\u001b[0;34m\u001b[0m\u001b[0m\n\u001b[0;32m---> 24\u001b[0;31m     \u001b[0mmx3\u001b[0m\u001b[0;34m.\u001b[0m\u001b[0mappend\u001b[0m\u001b[0;34m(\u001b[0m\u001b[0mfloat\u001b[0m\u001b[0;34m(\u001b[0m\u001b[0mdataStr\u001b[0m\u001b[0;34m[\u001b[0m\u001b[0;36m0\u001b[0m\u001b[0;34m]\u001b[0m\u001b[0;34m)\u001b[0m\u001b[0;34m)\u001b[0m\u001b[0;34m\u001b[0m\u001b[0;34m\u001b[0m\u001b[0m\n\u001b[0m\u001b[1;32m     25\u001b[0m     \u001b[0mmy3\u001b[0m\u001b[0;34m.\u001b[0m\u001b[0mappend\u001b[0m\u001b[0;34m(\u001b[0m\u001b[0mfloat\u001b[0m\u001b[0;34m(\u001b[0m\u001b[0mdataStr\u001b[0m\u001b[0;34m[\u001b[0m\u001b[0;36m1\u001b[0m\u001b[0;34m]\u001b[0m\u001b[0;34m)\u001b[0m\u001b[0;34m)\u001b[0m\u001b[0;34m\u001b[0m\u001b[0;34m\u001b[0m\u001b[0m\n\u001b[1;32m     26\u001b[0m     \u001b[0mmz3\u001b[0m\u001b[0;34m.\u001b[0m\u001b[0mappend\u001b[0m\u001b[0;34m(\u001b[0m\u001b[0mfloat\u001b[0m\u001b[0;34m(\u001b[0m\u001b[0mdataStr\u001b[0m\u001b[0;34m[\u001b[0m\u001b[0;36m2\u001b[0m\u001b[0;34m]\u001b[0m\u001b[0;34m)\u001b[0m\u001b[0;34m)\u001b[0m\u001b[0;34m\u001b[0m\u001b[0;34m\u001b[0m\u001b[0m\n",
            "\u001b[0;31mValueError\u001b[0m: could not convert string to float: 'mx'"
          ]
        }
      ]
    },
    {
      "cell_type": "code",
      "metadata": {
        "id": "4c6Tzw2RI5Yp",
        "colab_type": "code",
        "colab": {}
      },
      "source": [
        "for i in range(len(time3)):\n",
        "    time3[i]/=1000"
      ],
      "execution_count": 0,
      "outputs": []
    },
    {
      "cell_type": "code",
      "metadata": {
        "id": "bOHhqP9MC2Bo",
        "colab_type": "code",
        "colab": {}
      },
      "source": [
        "B3=[]\n",
        "\n",
        "for i in range(len(mx3)):\n",
        "      B3.append((mx3[i]**2+my3[i]**2+mz3[i]**2)**(1.0/2))\n",
        "plt.plot(time3,B3)\n",
        "\n",
        "plt.xlabel(\"Tiempo [s]\")\n",
        "plt.ylabel(\"Módulo del campo magnético\")\n",
        "plt.title(\"Módulo del campo magnético en función del tiempo\")"
      ],
      "execution_count": 0,
      "outputs": []
    },
    {
      "cell_type": "code",
      "metadata": {
        "id": "SIMxtQ5Fq1ho",
        "colab_type": "code",
        "colab": {}
      },
      "source": [
        "plt.plot(time3,mx3)\n",
        "plt.xlabel(\"Tiempo [s]\")\n",
        "plt.ylabel(\"Campo magnético \")\n",
        "plt.title(\"Campo magnético en el eje x en función del tiempo\")\n",
        "plt.show()"
      ],
      "execution_count": 0,
      "outputs": []
    },
    {
      "cell_type": "code",
      "metadata": {
        "id": "4enFdHTQq1hq",
        "colab_type": "code",
        "colab": {}
      },
      "source": [
        "plt.plot(time3,my3)\n",
        "plt.xlabel(\"Tiempo [s]\")\n",
        "plt.ylabel(\"Campo magnético \")\n",
        "plt.title(\"Campo magnético en el eje y en función del tiempo\")\n",
        "plt.show()"
      ],
      "execution_count": 0,
      "outputs": []
    },
    {
      "cell_type": "code",
      "metadata": {
        "id": "xmNoGCuqq1ht",
        "colab_type": "code",
        "colab": {}
      },
      "source": [
        "plt.plot(time3,mz3)\n",
        "plt.xlabel(\"Tiempo [s]\")\n",
        "plt.ylabel(\"Campo magnético \")\n",
        "plt.title(\"Campo magnético en el eje z en función del tiempo\")\n",
        "plt.show()"
      ],
      "execution_count": 0,
      "outputs": []
    },
    {
      "cell_type": "markdown",
      "metadata": {
        "id": "w9ch4eW5q1hw",
        "colab_type": "text"
      },
      "source": [
        "## Cuarto lote de graficos, correspondiente al archivo terminado en 40.csv"
      ]
    },
    {
      "cell_type": "code",
      "metadata": {
        "id": "AZbuq429q1hx",
        "colab_type": "code",
        "colab": {}
      },
      "source": [
        "import matplotlib.pyplot as plt \n",
        "%matplotlib inline\n",
        "nombreArchivo=\"2019-06-13_17_03_51_duty40.csv\"\n",
        "archivo=open(nombreArchivo,\"r\")\n",
        "mx4=[]\n",
        "my4=[]\n",
        "mz4=[]\n",
        "\n",
        "gx4=[]\n",
        "gy4=[]\n",
        "gz4=[]\n",
        "\n",
        "time4=[]\n",
        "\n",
        "tail14=[]\n",
        "tail24=[]\n",
        "tail34=[]\n",
        "\n",
        "checksum4=[]\n",
        "stringDatos=archivo.readline()\n",
        "while(stringDatos!=\"\"):\n",
        "    dataStr=stringDatos.split(\",\")\n",
        "    #obtener el m y agregarlo al arreglo mx\n",
        "    mx4.append(float(dataStr[0]))\n",
        "    my4.append(float(dataStr[1]))\n",
        "    mz4.append(float(dataStr[2]))\n",
        "    \n",
        "    #obtener el g y agregarlo al arreglo my\n",
        "    gx4.append(float(dataStr[3]))\n",
        "    gy4.append(float(dataStr[4]))\n",
        "    gz4.append(float(dataStr[5]))\n",
        "\n",
        "    #obtener el time y agregarlo al arreglo time\n",
        "    time4.append(float(dataStr[6]))\n",
        "    \n",
        "    #obtener el tail y agregarlo a su arreglo\n",
        "    tail14.append(float(dataStr[7]))\n",
        "    tail24.append(float(dataStr[8]))\n",
        "    tail34.append(float(dataStr[9]))\n",
        "    stringDatos=archivo.readline()\n",
        "archivo.close()"
      ],
      "execution_count": 0,
      "outputs": []
    },
    {
      "cell_type": "code",
      "metadata": {
        "id": "Ix9oIWF0J0gQ",
        "colab_type": "code",
        "colab": {}
      },
      "source": [
        "for i in range(len(time4)):\n",
        "    time4[i]/=1000"
      ],
      "execution_count": 0,
      "outputs": []
    },
    {
      "cell_type": "code",
      "metadata": {
        "id": "00qh1JMDFtas",
        "colab_type": "code",
        "outputId": "a414e25e-8b5f-433b-e80f-31f2e5f05ae5",
        "colab": {
          "base_uri": "https://localhost:8080/",
          "height": 312
        }
      },
      "source": [
        "B4=[]\n",
        "\n",
        "for i in range(len(mx4)):\n",
        "      B4.append((mx4[i]**2+my4[i]**2+mz4[i]**2)**(1.0/2))\n",
        "plt.plot(time4,B4)\n",
        "\n",
        "plt.xlabel(\"Tiempo [s]\")\n",
        "plt.ylabel(\"Módulo del campo magnético\")\n",
        "plt.title(\"Módulo del campo magnético en función del tiempo\")"
      ],
      "execution_count": 46,
      "outputs": [
        {
          "output_type": "execute_result",
          "data": {
            "text/plain": [
              "Text(0.5, 1.0, 'Módulo del campo magnético en función del tiempo')"
            ]
          },
          "metadata": {
            "tags": []
          },
          "execution_count": 46
        },
        {
          "output_type": "display_data",
          "data": {
            "image/png": "[encoded data removed]",
            "text/plain": [
              "<Figure size 432x288 with 1 Axes>"
            ]
          },
          "metadata": {
            "tags": []
          }
        }
      ]
    },
    {
      "cell_type": "code",
      "metadata": {
        "id": "HOLO_UVLq1hz",
        "colab_type": "code",
        "colab": {}
      },
      "source": [
        "plt.plot(time4,mx4)\n",
        "plt.xlabel(\"Tiempo [s]\")\n",
        "plt.ylabel(\"Campo magnético \")\n",
        "plt.title(\"Campo magnético en el eje x en función del tiempo\")\n",
        "plt.show()"
      ],
      "execution_count": 0,
      "outputs": []
    },
    {
      "cell_type": "code",
      "metadata": {
        "id": "7q2Ad6vdq1h2",
        "colab_type": "code",
        "colab": {}
      },
      "source": [
        "plt.plot(time3,my3)\n",
        "plt.xlabel(\"Tiempo [s]\")\n",
        "plt.ylabel(\"Campo magnético \")\n",
        "plt.title(\"Campo magnético en el eje y en función del tiempo\")\n",
        "plt.show()"
      ],
      "execution_count": 0,
      "outputs": []
    },
    {
      "cell_type": "code",
      "metadata": {
        "id": "OaS3Iftnq1h4",
        "colab_type": "code",
        "colab": {}
      },
      "source": [
        "plt.plot(time3,mz3)\n",
        "plt.xlabel(\"Tiempo [s]\")\n",
        "plt.ylabel(\"Campo magnético \")\n",
        "plt.title(\"Campo magnético en el eje z en función del tiempo\")\n",
        "plt.show()"
      ],
      "execution_count": 0,
      "outputs": []
    },
    {
      "cell_type": "markdown",
      "metadata": {
        "id": "yIdluf3gq1h7",
        "colab_type": "text"
      },
      "source": [
        "## Quinto lote de graficos, correspondiente al archivo terminado en 50.csv"
      ]
    },
    {
      "cell_type": "code",
      "metadata": {
        "id": "69879Yzjq1h8",
        "colab_type": "code",
        "colab": {}
      },
      "source": [
        "import matplotlib.pyplot as plt \n",
        "%matplotlib inline\n",
        "nombreArchivo=\"2019-06-13_17_05_15_duty50.csv\"\n",
        "archivo=open(nombreArchivo,\"r\")\n",
        "mx5=[]\n",
        "my5=[]\n",
        "mz5=[]\n",
        "\n",
        "gx5=[]\n",
        "gy5=[]\n",
        "gz5=[]\n",
        "\n",
        "time5=[]\n",
        "\n",
        "tail15=[]\n",
        "tail25=[]\n",
        "tail35=[]\n",
        "\n",
        "checksum5=[]\n",
        "stringDatos=archivo.readline()\n",
        "while(stringDatos!=\"\"):\n",
        "    dataStr=stringDatos.split(\",\")\n",
        "    #obtener el m y agregarlo al arreglo mx\n",
        "    mx5.append(float(dataStr[0]))\n",
        "    my5.append(float(dataStr[1]))\n",
        "    mz5.append(float(dataStr[2]))\n",
        "    \n",
        "    #obtener el g y agregarlo al arreglo my\n",
        "    gx5.append(float(dataStr[3]))\n",
        "    gy5.append(float(dataStr[4]))\n",
        "    gz5.append(float(dataStr[5]))\n",
        "\n",
        "    #obtener el time y agregarlo al arreglo time\n",
        "    time5.append(float(dataStr[6]))\n",
        "    \n",
        "    #obtener el tail y agregarlo a su arreglo\n",
        "    tail15.append(float(dataStr[7]))\n",
        "    tail25.append(float(dataStr[8]))\n",
        "    tail35.append(float(dataStr[9]))\n",
        "    stringDatos=archivo.readline()\n",
        "archivo.close()"
      ],
      "execution_count": 0,
      "outputs": []
    },
    {
      "cell_type": "code",
      "metadata": {
        "id": "sZg0OVZ0KaAb",
        "colab_type": "code",
        "colab": {}
      },
      "source": [
        "for i in range(len(time4)):\n",
        "    time4[i]/=1000"
      ],
      "execution_count": 0,
      "outputs": []
    },
    {
      "cell_type": "code",
      "metadata": {
        "id": "6jLt5HS1Khni",
        "colab_type": "code",
        "colab": {}
      },
      "source": [
        "B5=[]\n",
        "\n",
        "for i in range(len(mx5)):\n",
        "      B5.append((mx5[i]**2+my5[i]**2+mz5[i]**2)**(1.0/2))\n",
        "plt.plot(time5,B5)\n",
        "\n",
        "plt.xlabel(\"Tiempo [s]\")\n",
        "plt.ylabel(\"Módulo del campo magnético\")\n",
        "plt.title(\"Módulo del campo magnético en función del tiempo\")"
      ],
      "execution_count": 0,
      "outputs": []
    },
    {
      "cell_type": "code",
      "metadata": {
        "id": "FMiqJgBMq1iA",
        "colab_type": "code",
        "colab": {}
      },
      "source": [
        "plt.plot(time5,mx5)\n",
        "plt.xlabel(\"Tiempo [s]\")\n",
        "plt.ylabel(\"Campo magnético \")\n",
        "plt.title(\"Campo magnético en el eje x en función del tiempo\")\n",
        "plt.show()"
      ],
      "execution_count": 0,
      "outputs": []
    },
    {
      "cell_type": "code",
      "metadata": {
        "id": "UPAUlH4lq1iE",
        "colab_type": "code",
        "colab": {}
      },
      "source": [
        "plt.plot(time5,my5)\n",
        "plt.xlabel(\"Tiempo [s]\")\n",
        "plt.ylabel(\"Campo magnético \")\n",
        "plt.title(\"Campo magnético en el eje y en función del tiempo\")\n",
        "plt.show()"
      ],
      "execution_count": 0,
      "outputs": []
    },
    {
      "cell_type": "code",
      "metadata": {
        "id": "CQX56Fo7q1iL",
        "colab_type": "code",
        "colab": {}
      },
      "source": [
        "plt.plot(time5,mz5)\n",
        "plt.xlabel(\"Tiempo [s]\")\n",
        "plt.ylabel(\"Campo magnético \")\n",
        "plt.title(\"Campo magnético en el eje z en función del tiempo\")\n",
        "plt.show()"
      ],
      "execution_count": 0,
      "outputs": []
    },
    {
      "cell_type": "markdown",
      "metadata": {
        "id": "OLsDr02Qq1iO",
        "colab_type": "text"
      },
      "source": [
        "## Lote de graficos del archivo terminado en 60.csv"
      ]
    },
    {
      "cell_type": "code",
      "metadata": {
        "id": "V0Fq3lC_q1iP",
        "colab_type": "code",
        "colab": {}
      },
      "source": [
        "import matplotlib.pyplot as plt \n",
        "%matplotlib inline\n",
        "nombreArchivo=\"2019-06-13_17_06_34_duty60.csv\"\n",
        "archivo=open(nombreArchivo,\"r\")\n",
        "mx6=[]\n",
        "my6=[]\n",
        "mz6=[]\n",
        "\n",
        "gx6=[]\n",
        "gy6=[]\n",
        "gz6=[]\n",
        "\n",
        "time6=[]\n",
        "\n",
        "tail16=[]\n",
        "tail26=[]\n",
        "tail36=[]\n",
        "\n",
        "checksum6=[]\n",
        "stringDatos=archivo.readline()\n",
        "while(stringDatos!=\"\"):\n",
        "    dataStr=stringDatos.split(\",\")\n",
        "    #obtener el m y agregarlo al arreglo mx\n",
        "    mx6.append(float(dataStr[0]))\n",
        "    my6.append(float(dataStr[1]))\n",
        "    mz6.append(float(dataStr[2]))\n",
        "    \n",
        "    #obtener el g y agregarlo al arreglo my\n",
        "    gx6.append(float(dataStr[3]))\n",
        "    gy6.append(float(dataStr[4]))\n",
        "    gz6.append(float(dataStr[5]))\n",
        "\n",
        "    #obtener el time y agregarlo al arreglo time\n",
        "    time6.append(float(dataStr[6]))\n",
        "    \n",
        "    #obtener el tail y agregarlo a su arreglo\n",
        "    tail16.append(float(dataStr[7]))\n",
        "    tail26.append(float(dataStr[8]))\n",
        "    tail36.append(float(dataStr[9]))\n",
        "    stringDatos=archivo.readline()\n",
        "archivo.close()"
      ],
      "execution_count": 0,
      "outputs": []
    },
    {
      "cell_type": "code",
      "metadata": {
        "id": "-3gPooSZKssD",
        "colab_type": "code",
        "colab": {}
      },
      "source": [
        "for i in range(len(time6)):\n",
        "    time6[i]/=1000"
      ],
      "execution_count": 0,
      "outputs": []
    },
    {
      "cell_type": "code",
      "metadata": {
        "id": "MnVAkXdzK-nr",
        "colab_type": "code",
        "colab": {}
      },
      "source": [
        "B6=[]\n",
        "\n",
        "for i in range(len(mx6)):\n",
        "      B6.append((mx6[i]**2+my6[i]**2+mz6[i]**2)**(1.0/2))\n",
        "plt.plot(time6,B6)\n",
        "\n",
        "plt.xlabel(\"Tiempo [s]\")\n",
        "plt.ylabel(\"Módulo del campo magnético\")\n",
        "plt.title(\"Módulo del campo magnético en función del tiempo\")"
      ],
      "execution_count": 0,
      "outputs": []
    },
    {
      "cell_type": "code",
      "metadata": {
        "id": "CikY-7Ydq1iS",
        "colab_type": "code",
        "colab": {}
      },
      "source": [
        "plt.plot(time6,mx6)\n",
        "plt.xlabel(\"Tiempo [s]\")\n",
        "plt.ylabel(\"Campo magnético \")\n",
        "plt.title(\"Campo magnético en el eje x en función del tiempo\")\n",
        "plt.show()"
      ],
      "execution_count": 0,
      "outputs": []
    },
    {
      "cell_type": "code",
      "metadata": {
        "id": "WY5FozG7q1iV",
        "colab_type": "code",
        "colab": {}
      },
      "source": [
        "plt.plot(time6,my6)\n",
        "plt.xlabel(\"Tiempo [s]\")\n",
        "plt.ylabel(\"Campo magnético \")\n",
        "plt.title(\"Campo magnético en el eje y en función del tiempo\")\n",
        "plt.show()"
      ],
      "execution_count": 0,
      "outputs": []
    },
    {
      "cell_type": "code",
      "metadata": {
        "id": "UWfEDidvq1iX",
        "colab_type": "code",
        "colab": {}
      },
      "source": [
        "plt.plot(time6,mz6)\n",
        "plt.xlabel(\"Tiempo [s]\")\n",
        "plt.ylabel(\"Campo magnético \")\n",
        "plt.title(\"Campo magnético en el eje z en función del tiempo\")\n",
        "plt.show()"
      ],
      "execution_count": 0,
      "outputs": []
    },
    {
      "cell_type": "markdown",
      "metadata": {
        "id": "qtDnOMNSq1iZ",
        "colab_type": "text"
      },
      "source": [
        "## Graficos correspondientes al archivo terminado en 70.csv"
      ]
    },
    {
      "cell_type": "code",
      "metadata": {
        "id": "wmeDQrU_q1ia",
        "colab_type": "code",
        "colab": {}
      },
      "source": [
        "import matplotlib.pyplot as plt \n",
        "%matplotlib inline\n",
        "nombreArchivo=\"2019-06-13_17_07_58_duty70.csv\"\n",
        "archivo=open(nombreArchivo,\"r\")\n",
        "mx7=[]\n",
        "my7=[]\n",
        "mz7=[]\n",
        "\n",
        "gx7=[]\n",
        "gy7=[]\n",
        "gz7=[]\n",
        "\n",
        "time7=[]\n",
        "\n",
        "tail17=[]\n",
        "tail27=[]\n",
        "tail37=[]\n",
        "\n",
        "checksum7=[]\n",
        "stringDatos=archivo.readline()\n",
        "while(stringDatos!=\"\"):\n",
        "    dataStr=stringDatos.split(\",\")\n",
        "    #obtener el m y agregarlo al arreglo mx\n",
        "    mx7.append(float(dataStr[0]))\n",
        "    my7.append(float(dataStr[1]))\n",
        "    mz7.append(float(dataStr[2]))\n",
        "    \n",
        "    #obtener el g y agregarlo al arreglo my\n",
        "    gx7.append(float(dataStr[3]))\n",
        "    gy7.append(float(dataStr[4]))\n",
        "    gz7.append(float(dataStr[5]))\n",
        "\n",
        "    #obtener el time y agregarlo al arreglo time\n",
        "    time7.append(float(dataStr[6]))\n",
        "    \n",
        "    #obtener el tail y agregarlo a su arreglo\n",
        "    tail17.append(float(dataStr[7]))\n",
        "    tail27.append(float(dataStr[8]))\n",
        "    tail37.append(float(dataStr[9]))\n",
        "    stringDatos=archivo.readline()\n",
        "archivo.close()"
      ],
      "execution_count": 0,
      "outputs": []
    },
    {
      "cell_type": "code",
      "metadata": {
        "id": "k-e-exCmKwsu",
        "colab_type": "code",
        "colab": {}
      },
      "source": [
        "for i in range(len(time7)):\n",
        "    time7[i]/=1000"
      ],
      "execution_count": 0,
      "outputs": []
    },
    {
      "cell_type": "code",
      "metadata": {
        "id": "w8ISlYe9LKce",
        "colab_type": "code",
        "colab": {}
      },
      "source": [
        "B7=[]\n",
        "\n",
        "for i in range(len(mx7)):\n",
        "      B7.append((mx7[i]**2+my7[i]**2+mz7[i]**2)**(1.0/2))\n",
        "plt.plot(time7,B7)\n",
        "\n",
        "plt.xlabel(\"Tiempo [s]\")\n",
        "plt.ylabel(\"Módulo del campo magnético\")\n",
        "plt.title(\"Módulo del campo magnético en función del tiempo\")"
      ],
      "execution_count": 0,
      "outputs": []
    },
    {
      "cell_type": "code",
      "metadata": {
        "id": "l0RnPeblq1ie",
        "colab_type": "code",
        "colab": {}
      },
      "source": [
        "plt.plot(time7,mx7)\n",
        "plt.xlabel(\"Tiempo [s]\")\n",
        "plt.ylabel(\"Campo magnético \")\n",
        "plt.title(\"Campo magnético en el eje x en función del tiempo\")\n",
        "plt.show()"
      ],
      "execution_count": 0,
      "outputs": []
    },
    {
      "cell_type": "code",
      "metadata": {
        "id": "DMsORIGdq1ig",
        "colab_type": "code",
        "colab": {}
      },
      "source": [
        "plt.plot(time7,my7)\n",
        "plt.xlabel(\"Tiempo [s]\")\n",
        "plt.ylabel(\"Campo magnético \")\n",
        "plt.title(\"Campo magnético en el eje y en función del tiempo\")\n",
        "plt.show()"
      ],
      "execution_count": 0,
      "outputs": []
    },
    {
      "cell_type": "code",
      "metadata": {
        "id": "ieLp-IBXq1ii",
        "colab_type": "code",
        "colab": {}
      },
      "source": [
        "plt.plot(time7,mz7)\n",
        "plt.xlabel(\"Tiempo [s]\")\n",
        "plt.ylabel(\"Campo magnético \")\n",
        "plt.title(\"Campo magnético en el eje z en función del tiempo\")\n",
        "plt.show()"
      ],
      "execution_count": 0,
      "outputs": []
    },
    {
      "cell_type": "markdown",
      "metadata": {
        "id": "ugRMyKDAq1ik",
        "colab_type": "text"
      },
      "source": [
        "## Graficos asociados al archivo terminado en 80.csv"
      ]
    },
    {
      "cell_type": "code",
      "metadata": {
        "id": "GLaf60t5q1il",
        "colab_type": "code",
        "colab": {}
      },
      "source": [
        "import matplotlib.pyplot as plt \n",
        "%matplotlib inline\n",
        "nombreArchivo=\"2019-06-13_17_09_09_duty80.csv\"\n",
        "archivo=open(nombreArchivo,\"r\")\n",
        "mx8=[]\n",
        "my8=[]\n",
        "mz8=[]\n",
        "\n",
        "gx8=[]\n",
        "gy8=[]\n",
        "gz8=[]\n",
        "\n",
        "time8=[]\n",
        "\n",
        "tail18=[]\n",
        "tail28=[]\n",
        "tail38=[]\n",
        "\n",
        "checksum8=[]\n",
        "stringDatos=archivo.readline()\n",
        "while(stringDatos!=\"\"):\n",
        "    dataStr=stringDatos.split(\",\")\n",
        "    #obtener el m y agregarlo al arreglo mx\n",
        "    mx8.append(float(dataStr[0]))\n",
        "    my8.append(float(dataStr[1]))\n",
        "    mz8.append(float(dataStr[2]))\n",
        "    \n",
        "    #obtener el g y agregarlo al arreglo my\n",
        "    gx8.append(float(dataStr[3]))\n",
        "    gy8.append(float(dataStr[4]))\n",
        "    gz8.append(float(dataStr[5]))\n",
        "\n",
        "    #obtener el time y agregarlo al arreglo time\n",
        "    time8.append(float(dataStr[6]))\n",
        "    \n",
        "    #obtener el tail y agregarlo a su arreglo\n",
        "    tail18.append(float(dataStr[7]))\n",
        "    tail28.append(float(dataStr[8]))\n",
        "    tail38.append(float(dataStr[9]))\n",
        "    stringDatos=archivo.readline()\n",
        "archivo.close()"
      ],
      "execution_count": 0,
      "outputs": []
    },
    {
      "cell_type": "code",
      "metadata": {
        "id": "8xQgXenpKzGV",
        "colab_type": "code",
        "colab": {}
      },
      "source": [
        "for i in range(len(time8)):\n",
        "    time8[i]/=1000"
      ],
      "execution_count": 0,
      "outputs": []
    },
    {
      "cell_type": "code",
      "metadata": {
        "id": "s5WZdXAfLUZv",
        "colab_type": "code",
        "colab": {}
      },
      "source": [
        "B8=[]\n",
        "\n",
        "for i in range(len(mx8)):\n",
        "      B8.append((mx8[i]**2+my8[i]**2+mz8[i]**2)**(1.0/2))\n",
        "plt.plot(time8,B8)\n",
        "\n",
        "plt.xlabel(\"Tiempo [s]\")\n",
        "plt.ylabel(\"Módulo del campo magnético\")\n",
        "plt.title(\"Módulo del campo magnético en función del tiempo\")"
      ],
      "execution_count": 0,
      "outputs": []
    },
    {
      "cell_type": "code",
      "metadata": {
        "id": "NByKGOs3q1io",
        "colab_type": "code",
        "colab": {}
      },
      "source": [
        "plt.plot(time8,mx8)\n",
        "plt.xlabel(\"Tiempo [s]\")\n",
        "plt.ylabel(\"Campo magnético \")\n",
        "plt.title(\"Campo magnético en el eje x en función del tiempo\")\n",
        "plt.show()"
      ],
      "execution_count": 0,
      "outputs": []
    },
    {
      "cell_type": "code",
      "metadata": {
        "id": "KGH1K9bZq1iu",
        "colab_type": "code",
        "colab": {}
      },
      "source": [
        "plt.plot(time8,my8)\n",
        "plt.xlabel(\"Tiempo [s]\")\n",
        "plt.ylabel(\"Campo magnético \")\n",
        "plt.title(\"Campo magnético en el eje y en función del tiempo\")\n",
        "plt.show()"
      ],
      "execution_count": 0,
      "outputs": []
    },
    {
      "cell_type": "code",
      "metadata": {
        "id": "7_7Zv82cq1iw",
        "colab_type": "code",
        "colab": {}
      },
      "source": [
        "plt.plot(time8,mz8)\n",
        "plt.xlabel(\"Tiempo [s]\")\n",
        "plt.ylabel(\"Campo magnético \")\n",
        "plt.title(\"Campo magnético en el eje z en función del tiempo\")\n",
        "plt.show()"
      ],
      "execution_count": 0,
      "outputs": []
    },
    {
      "cell_type": "markdown",
      "metadata": {
        "id": "GG1Ns9lzq1i0",
        "colab_type": "text"
      },
      "source": [
        "## Graficos asociados al archivo terminado en 90.csv"
      ]
    },
    {
      "cell_type": "code",
      "metadata": {
        "id": "KZxeTIoeq1i1",
        "colab_type": "code",
        "colab": {}
      },
      "source": [
        "import matplotlib.pyplot as plt \n",
        "%matplotlib inline\n",
        "nombreArchivo=\"2019-06-13_17_10_28_duty90.csv\"\n",
        "archivo=open(nombreArchivo,\"r\")\n",
        "mx9=[]\n",
        "my9=[]\n",
        "mz9=[]\n",
        "\n",
        "gx9=[]\n",
        "gy9=[]\n",
        "gz9=[]\n",
        "\n",
        "time9=[]\n",
        "\n",
        "tail19=[]\n",
        "tail29=[]\n",
        "tail39=[]\n",
        "\n",
        "checksum9=[]\n",
        "stringDatos=archivo.readline()\n",
        "while(stringDatos!=\"\"):\n",
        "    dataStr=stringDatos.split(\",\")\n",
        "    #obtener el m y agregarlo al arreglo mx\n",
        "    mx9.append(float(dataStr[0]))\n",
        "    my9.append(float(dataStr[1]))\n",
        "    mz9.append(float(dataStr[2]))\n",
        "    \n",
        "    #obtener el g y agregarlo al arreglo my\n",
        "    gx9.append(float(dataStr[3]))\n",
        "    gy9.append(float(dataStr[4]))\n",
        "    gz9.append(float(dataStr[5]))\n",
        "\n",
        "    #obtener el time y agregarlo al arreglo time\n",
        "    time9.append(float(dataStr[6]))\n",
        "    \n",
        "    #obtener el tail y agregarlo a su arreglo\n",
        "    tail19.append(float(dataStr[7]))\n",
        "    tail29.append(float(dataStr[8]))\n",
        "    tail39.append(float(dataStr[9]))\n",
        "    stringDatos=archivo.readline()\n",
        "archivo.close()"
      ],
      "execution_count": 0,
      "outputs": []
    },
    {
      "cell_type": "code",
      "metadata": {
        "id": "-K4L3SzrK1YD",
        "colab_type": "code",
        "colab": {}
      },
      "source": [
        "for i in range(len(time9)):\n",
        "    time9[i]/=1000"
      ],
      "execution_count": 0,
      "outputs": []
    },
    {
      "cell_type": "code",
      "metadata": {
        "id": "N85qti8ULdEW",
        "colab_type": "code",
        "colab": {}
      },
      "source": [
        "B9=[]\n",
        "\n",
        "for i in range(len(mx9)):\n",
        "      B9.append((mx9[i]**2+my9[i]**2+mz9[i]**2)**(1.0/2))\n",
        "plt.plot(time9,B9)\n",
        "\n",
        "plt.xlabel(\"Tiempo [s]\")\n",
        "plt.ylabel(\"Módulo del campo magnético\")\n",
        "plt.title(\"Módulo del campo magnético en función del tiempo\")"
      ],
      "execution_count": 0,
      "outputs": []
    },
    {
      "cell_type": "code",
      "metadata": {
        "id": "BUrSeJfmq1i9",
        "colab_type": "code",
        "colab": {}
      },
      "source": [
        "plt.plot(time9,mx9)\n",
        "plt.xlabel(\"Tiempo [s]\")\n",
        "plt.ylabel(\"Campo magnético \")\n",
        "plt.title(\"Campo magnético en el eje x en función del tiempo\")\n",
        "plt.show()"
      ],
      "execution_count": 0,
      "outputs": []
    },
    {
      "cell_type": "code",
      "metadata": {
        "id": "5WD8c_KTq1jC",
        "colab_type": "code",
        "colab": {}
      },
      "source": [
        "plt.plot(time9,my9)\n",
        "plt.xlabel(\"Tiempo [s]\")\n",
        "plt.ylabel(\"Campo magnético \")\n",
        "plt.title(\"Campo magnético en el eje y en función del tiempo\")\n",
        "plt.show()"
      ],
      "execution_count": 0,
      "outputs": []
    },
    {
      "cell_type": "code",
      "metadata": {
        "id": "1ma3cPsoq1jE",
        "colab_type": "code",
        "colab": {}
      },
      "source": [
        "plt.plot(time9,mz9)\n",
        "plt.xlabel(\"Tiempo [s]\")\n",
        "plt.ylabel(\"Campo magnético \")\n",
        "plt.title(\"Campo magnético en el eje z en función del tiempo\")\n",
        "plt.show()"
      ],
      "execution_count": 0,
      "outputs": []
    },
    {
      "cell_type": "markdown",
      "metadata": {
        "id": "0A4JubZtq1jF",
        "colab_type": "text"
      },
      "source": [
        "## Graficos asociados al archivo terminado en 100.csv"
      ]
    },
    {
      "cell_type": "code",
      "metadata": {
        "id": "zYKxG15Fq1jG",
        "colab_type": "code",
        "colab": {}
      },
      "source": [
        "import matplotlib.pyplot as plt \n",
        "%matplotlib inline\n",
        "nombreArchivo=\"2019-06-13_17_11_40_duty100.csv\"\n",
        "archivo=open(nombreArchivo,\"r\")\n",
        "mx10=[]\n",
        "my10=[]\n",
        "mz10=[]\n",
        "\n",
        "gx10=[]\n",
        "gy10=[]\n",
        "gz10=[]\n",
        "\n",
        "time10=[]\n",
        "\n",
        "tail110=[]\n",
        "tail210=[]\n",
        "tail310=[]\n",
        "\n",
        "checksum10=[]\n",
        "stringDatos=archivo.readline()\n",
        "while(stringDatos!=\"\"):\n",
        "    dataStr=stringDatos.split(\",\")\n",
        "    #obtener el m y agregarlo al arreglo mx\n",
        "    mx10.append(float(dataStr[0]))\n",
        "    my10.append(float(dataStr[1]))\n",
        "    mz10.append(float(dataStr[2]))\n",
        "    \n",
        "    #obtener el g y agregarlo al arreglo my\n",
        "    gx10.append(float(dataStr[3]))\n",
        "    gy10.append(float(dataStr[4]))\n",
        "    gz10.append(float(dataStr[5]))\n",
        "\n",
        "    #obtener el time y agregarlo al arreglo time\n",
        "    time10.append(float(dataStr[6]))\n",
        "    \n",
        "    #obtener el tail y agregarlo a su arreglo\n",
        "    tail110.append(float(dataStr[7]))\n",
        "    tail210.append(float(dataStr[8]))\n",
        "    tail310.append(float(dataStr[9]))\n",
        "    stringDatos=archivo.readline()\n",
        "archivo.close()"
      ],
      "execution_count": 0,
      "outputs": []
    },
    {
      "cell_type": "code",
      "metadata": {
        "id": "BZUGsdTEK5LA",
        "colab_type": "code",
        "colab": {}
      },
      "source": [
        "for i in range(len(time10)):\n",
        "    time10[i]/=1000"
      ],
      "execution_count": 0,
      "outputs": []
    },
    {
      "cell_type": "code",
      "metadata": {
        "id": "-a4nrFqGLl8b",
        "colab_type": "code",
        "colab": {}
      },
      "source": [
        "B10=[]\n",
        "\n",
        "for i in range(len(mx10)):\n",
        "      B10.append((mx10[i]**2+my10[i]**2+mz10[i]**2)**(1.0/2))\n",
        "plt.plot(time10,B10)\n",
        "\n",
        "plt.xlabel(\"Tiempo [s]\")\n",
        "plt.ylabel(\"Módulo del campo magnético\")\n",
        "plt.title(\"Módulo del campo magnético en función del tiempo\")"
      ],
      "execution_count": 0,
      "outputs": []
    },
    {
      "cell_type": "code",
      "metadata": {
        "id": "jjhUGUHWq1jJ",
        "colab_type": "code",
        "colab": {}
      },
      "source": [
        "plt.plot(time10,mx10)\n",
        "plt.xlabel(\"Tiempo [s]\")\n",
        "plt.ylabel(\"Campo magnético \")\n",
        "plt.title(\"Campo magnético en el eje x en función del tiempo\")\n",
        "plt.show()"
      ],
      "execution_count": 0,
      "outputs": []
    },
    {
      "cell_type": "code",
      "metadata": {
        "id": "rIst752Eq1jc",
        "colab_type": "code",
        "colab": {}
      },
      "source": [
        "plt.plot(time10,my10)\n",
        "plt.xlabel(\"Tiempo [s]\")\n",
        "plt.ylabel(\"Campo magnético \")\n",
        "plt.title(\"Campo magnético en el eje y en función del tiempo\")\n",
        "plt.show()"
      ],
      "execution_count": 0,
      "outputs": []
    },
    {
      "cell_type": "code",
      "metadata": {
        "id": "_gL-ED7Nq1je",
        "colab_type": "code",
        "colab": {}
      },
      "source": [
        "plt.plot(time10,mz10)\n",
        "plt.xlabel(\"Tiempo [s]\")\n",
        "plt.ylabel(\"Campo magnético \")\n",
        "plt.title(\"Campo magnético en el eje z en función del tiempo\")\n",
        "plt.show()"
      ],
      "execution_count": 0,
      "outputs": []
    }
  ]
}